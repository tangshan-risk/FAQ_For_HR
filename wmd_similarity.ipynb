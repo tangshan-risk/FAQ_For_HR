{
 "cells": [
  {
   "cell_type": "code",
   "execution_count": 1,
   "metadata": {},
   "outputs": [
    {
     "ename": "ModuleNotFoundError",
     "evalue": "No module named 'gensim'",
     "output_type": "error",
     "traceback": [
      "\u001b[0;31m---------------------------------------------------------------------------\u001b[0m",
      "\u001b[0;31mModuleNotFoundError\u001b[0m                       Traceback (most recent call last)",
      "\u001b[0;32m<ipython-input-1-ebaaa2317cd1>\u001b[0m in \u001b[0;36m<module>\u001b[0;34m()\u001b[0m\n\u001b[1;32m      3\u001b[0m \u001b[0;32mimport\u001b[0m \u001b[0mre\u001b[0m\u001b[0;34m\u001b[0m\u001b[0m\n\u001b[1;32m      4\u001b[0m \u001b[0;32mimport\u001b[0m \u001b[0mcodecs\u001b[0m\u001b[0;34m\u001b[0m\u001b[0m\n\u001b[0;32m----> 5\u001b[0;31m \u001b[0;32mfrom\u001b[0m \u001b[0mgensim\u001b[0m\u001b[0;34m.\u001b[0m\u001b[0mmodels\u001b[0m \u001b[0;32mimport\u001b[0m \u001b[0mWord2Vec\u001b[0m\u001b[0;34m,\u001b[0m \u001b[0mKeyedVectors\u001b[0m\u001b[0;34m\u001b[0m\u001b[0m\n\u001b[0m\u001b[1;32m      6\u001b[0m \u001b[0;32mfrom\u001b[0m \u001b[0mgensim\u001b[0m\u001b[0;34m.\u001b[0m\u001b[0msimilarities\u001b[0m \u001b[0;32mimport\u001b[0m \u001b[0mWmdSimilarity\u001b[0m\u001b[0;34m\u001b[0m\u001b[0m\n\u001b[1;32m      7\u001b[0m \u001b[0;32mfrom\u001b[0m \u001b[0mnltk\u001b[0m \u001b[0;32mimport\u001b[0m \u001b[0mword_tokenize\u001b[0m\u001b[0;34m\u001b[0m\u001b[0m\n",
      "\u001b[0;31mModuleNotFoundError\u001b[0m: No module named 'gensim'"
     ]
    }
   ],
   "source": [
    "import pandas as pd\n",
    "import time\n",
    "import re\n",
    "import codecs\n",
    "from gensim.models import Word2Vec, KeyedVectors\n",
    "from gensim.similarities import WmdSimilarity\n",
    "from nltk import word_tokenize\n",
    "import jieba\n",
    "from nltk.corpus import stopwords"
   ]
  },
  {
   "cell_type": "code",
   "execution_count": null,
   "metadata": {},
   "outputs": [],
   "source": [
    "def LogInfo(stri):\n",
    "    print(str(time.strftime(\"%Y-%m-%d %H:%M:%S\", time.localtime()))+'  '+stri)"
   ]
  },
  {
   "cell_type": "code",
   "execution_count": null,
   "metadata": {},
   "outputs": [],
   "source": [
    "def preprocess_data_en(stopwords,doc):\n",
    "    '''\n",
    "    Function: preprocess data in Chinese including cleaning, tokenzing...\n",
    "    Input: document string\n",
    "    Output: list of words\n",
    "    '''     \n",
    "    doc = doc.lower()\n",
    "    doc = word_tokenize(doc)\n",
    "    doc = [word for word in doc if word not in set(stopwords)]\n",
    "    doc = [word for word in doc if word.isalpha()]\n",
    "    return doc"
   ]
  },
  {
   "cell_type": "code",
   "execution_count": null,
   "metadata": {
    "code_folding": [
     0
    ]
   },
   "outputs": [],
   "source": [
    "def preprocess_data_cn(stopwords,doc):\n",
    "    '''\n",
    "    Function: preprocess data in Chinese including cleaning, tokenzing...\n",
    "    Input: \n",
    "        stopwords: Chinese stopwords list\n",
    "        doc: document string\n",
    "    Output: list of words\n",
    "    '''       \n",
    "    # clean data\n",
    "    doc = re.sub(u\"[^\\u4E00-\\u9FFF]\", \"\", doc) # delete all non-chinese characters\n",
    "    doc = re.sub(u\"[儿]\", \"\", doc) # delete 儿\n",
    "    # tokenize and move stopwords \n",
    "    doc = [word for word in jieba.cut(doc) if word not in set(stopwords)]   \n",
    "    return doc"
   ]
  },
  {
   "cell_type": "code",
   "execution_count": null,
   "metadata": {},
   "outputs": [],
   "source": [
    "def wmd_similarity(lang,docs1,docs2):\n",
    "    '''\n",
    "    Input:\n",
    "        lang: text language-Chinese for 'cn'/ English for 'en'\n",
    "        docs1:  document strings list1\n",
    "        docs2: document strings list2\n",
    "    Output:\n",
    "        WMD similarity list of docs1 and docs2 pairs\n",
    "    '''\n",
    "    \n",
    "    # check if the number of documents matched\n",
    "    assert len(docs1)==len(docs2) ,'Documents number is not matched!'\n",
    "    assert len(docs1)!=0,'Documents list1 is null'\n",
    "    assert len(docs2)!=0,'Documents list2 is null'\n",
    "    assert lang=='cn' or lang=='en', 'Language setting is wrong'\n",
    "    \n",
    "    # change setting according to text language \n",
    "    if lang=='cn':\n",
    "        model_path = '../model/cn.cbow.bin'\n",
    "        stopwords_path = '../data/chinese_stopwords.txt'\n",
    "        preprocess_data = preprocess_data_cn\n",
    "    elif lang=='en':\n",
    "        model_path = 'C:/Users/wendyban/bwy/04_WorkSpaces/Python/01_project/bmw1001/data/glove6B200d.txt'\n",
    "        stopwords_path = '../data/english_stopwords.txt'\n",
    "        preprocess_data = preprocess_data_en\n",
    "        \n",
    "    # load word2vec model  \n",
    "    LogInfo('Load word2vec model...')\n",
    "    model = KeyedVectors.load_word2vec_format(model_path,binary=True,unicode_errors='ignore')\n",
    "    # normalize vectors\n",
    "    model.init_sims(replace=True)\n",
    "    \n",
    "    # preprocess data\n",
    "#     stopwords= [w.strip() for w in codecs.open(stopwords_path, 'r',encoding='utf-8').readlines()]\n",
    "    stopwordsList = stopwords.words('english')\n",
    "    sims = []\n",
    "    LogInfo('Calculating similarity...')\n",
    "    for i in range(len(docs1)):        \n",
    "        p1 = preprocess_data(stopwordsList,docs1[i])\n",
    "        p2 = preprocess_data(stopwordsList,docs2[i])\n",
    "        # calculate wmd similarity\n",
    "        instance = WmdSimilarity(p1,model)\n",
    "        sim = instance.get_similarities(p2)\n",
    "        sims.append(sim[0])\n",
    "    \n",
    "    return sims"
   ]
  },
  {
   "cell_type": "code",
   "execution_count": null,
   "metadata": {},
   "outputs": [],
   "source": [
    "\n",
    "def example():\n",
    "    # English text example\n",
    "    docs1 = ['a speaker presents some products',\n",
    "                 'vegetable is being sliced.',\n",
    "                'man sitting using tool at a table in his home.']\n",
    "    docs2 = ['the speaker is introducing the new products on a fair.',\n",
    "                'someone is slicing a tomato with a knife on a cutting board.',\n",
    "                'The president comes to China']\n",
    "    sims = wmd_similarity('en',docs1,docs2)\n",
    "    for i in range(len(sims)):\n",
    "        print(docs1[i])\n",
    "        print(docs2[i])\n",
    "        print('Similarity: %.4f' %sims[i])\n",
    "        \n",
    "    # Chinese text example\n",
    "#     docs1 = ['做任何事都不能三天打鱼，两天晒网', \n",
    "#              '学无止境', \n",
    "#              '他整天愁眉苦脸']\n",
    "#     docs2 = ['对待每件事都不能轻言放弃', \n",
    "#              '学海无涯，天道酬勤',\n",
    "#              '他和朋友去逛街']\n",
    "#     sims = wmd_similarity('cn',docs1,docs2)\n",
    "#     for i in range(len(sims)):\n",
    "#         print(docs1[i])\n",
    "#         print(docs2[i])\n",
    "#         print('Similarity: %.4f' %sims[i])\n",
    "        \n",
    "if __name__=='__main__':\n",
    "    example()"
   ]
  },
  {
   "cell_type": "code",
   "execution_count": null,
   "metadata": {},
   "outputs": [],
   "source": []
  }
 ],
 "metadata": {
  "kernelspec": {
   "display_name": "Python 3",
   "language": "python",
   "name": "python3"
  },
  "language_info": {
   "codemirror_mode": {
    "name": "ipython",
    "version": 3
   },
   "file_extension": ".py",
   "mimetype": "text/x-python",
   "name": "python",
   "nbconvert_exporter": "python",
   "pygments_lexer": "ipython3",
   "version": "3.7.0"
  },
  "toc": {
   "base_numbering": 1,
   "nav_menu": {},
   "number_sections": true,
   "sideBar": true,
   "skip_h1_title": false,
   "title_cell": "Table of Contents",
   "title_sidebar": "Contents",
   "toc_cell": false,
   "toc_position": {},
   "toc_section_display": true,
   "toc_window_display": false
  }
 },
 "nbformat": 4,
 "nbformat_minor": 2
}
