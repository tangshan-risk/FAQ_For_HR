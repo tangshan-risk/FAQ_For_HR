{
 "cells": [
  {
   "cell_type": "code",
   "execution_count": 61,
   "metadata": {},
   "outputs": [],
   "source": [
    "import codecs\n",
    "from gensim import corpora\n",
    "from gensim.summarization import bm25\n",
    "import os\n",
    "import re\n",
    "import pandas as pd\n",
    "from nltk import word_tokenize\n",
    "from nltk.corpus import stopwords"
   ]
  },
  {
   "cell_type": "code",
   "execution_count": 62,
   "metadata": {},
   "outputs": [],
   "source": [
    "stopwordsList = stopwords.words('english')\n",
    "stop_flag = ['x', 'c', 'u','d', 'p', 't', 'uj', 'm', 'f', 'r']"
   ]
  },
  {
   "cell_type": "code",
   "execution_count": 65,
   "metadata": {
    "code_folding": [
     0
    ]
   },
   "outputs": [],
   "source": [
    "def preprocess_data_en(stopwords,doc):\n",
    "    '''\n",
    "    Function: preprocess data in Chinese including cleaning, tokenzing...\n",
    "    Input: document string\n",
    "    Output: list of words\n",
    "    '''     \n",
    "    doc = doc.lower()\n",
    "    doc = word_tokenize(doc)\n",
    "    doc = [word for word in doc if word not in set(stopwordsList)]\n",
    "    doc = [word for word in doc if word.isalpha()]   # 判断是否为英文字母\n",
    "    return doc"
   ]
  },
  {
   "cell_type": "code",
   "execution_count": 89,
   "metadata": {},
   "outputs": [],
   "source": [
    "corpus = pd.read_excel('C:/Users/wendyban/bwy/04_WorkSpaces/Python/01_project/bmw1001/data/BMW_HR.xlsx')\n",
    "qList = corpus['question'].tolist()\n",
    "qList = [preprocess_data_en(stopwords,q) for q in qList]\n",
    "dictionary = corpora.Dictionary(qList) \n",
    "\n",
    "bm25Model = bm25.BM25(qList)"
   ]
  },
  {
   "cell_type": "code",
   "execution_count": 105,
   "metadata": {},
   "outputs": [],
   "source": [
    "average_idf = sum(map(lambda k: float(bm25Model.idf[k]), bm25Model.idf.keys())) / len(bm25Model.idf.keys())\n",
    "def sim(sentence):\n",
    "    query_str = sentence\n",
    "    query =  preprocess_data_en(stopwordsList, query_str)\n",
    "    scores = bm25Model.get_scores(query,average_idf) # scores.sort(reverse=True) print scores\n",
    "    idx = scores.index(max(scores))\n",
    "    return idx\n",
    "# sim('what is the principle of home office?')"
   ]
  },
  {
   "cell_type": "code",
   "execution_count": 98,
   "metadata": {},
   "outputs": [
    {
     "data": {
      "text/plain": [
       "'Who can apply for home office'"
      ]
     },
     "execution_count": 98,
     "metadata": {},
     "output_type": "execute_result"
    }
   ],
   "source": [
    "# matched = corpus['question'].tolist()[idx]"
   ]
  },
  {
   "cell_type": "code",
   "execution_count": 106,
   "metadata": {},
   "outputs": [],
   "source": [
    "test_data = pd.read_excel('C:/Users/wendyban/bwy/04_WorkSpaces/Python/01_project/bmw1001/data/BMW_HR_test.xlsx')"
   ]
  },
  {
   "cell_type": "code",
   "execution_count": 107,
   "metadata": {},
   "outputs": [],
   "source": [
    "questionList = test_data['question2'].tolist()\n",
    "max_index = []\n",
    "for q in questionList:\n",
    "    max_index.append(sim(q))\n",
    "\n",
    "test_data['matched_index'] = max_index"
   ]
  },
  {
   "cell_type": "code",
   "execution_count": 111,
   "metadata": {},
   "outputs": [],
   "source": [
    "score = []\n",
    "q_index = test_data.index.tolist()\n",
    "for i in range(len(max_index)):\n",
    "    if max_index[i] == q_index[i]:\n",
    "        score.append(1)\n",
    "    else:\n",
    "        score.append(0)"
   ]
  },
  {
   "cell_type": "code",
   "execution_count": 112,
   "metadata": {},
   "outputs": [
    {
     "data": {
      "text/plain": [
       "0.35714285714285715"
      ]
     },
     "execution_count": 112,
     "metadata": {},
     "output_type": "execute_result"
    }
   ],
   "source": [
    "sum(score)/len(score)"
   ]
  },
  {
   "cell_type": "code",
   "execution_count": null,
   "metadata": {},
   "outputs": [],
   "source": []
  }
 ],
 "metadata": {
  "kernelspec": {
   "display_name": "Python 3",
   "language": "python",
   "name": "python3"
  },
  "language_info": {
   "codemirror_mode": {
    "name": "ipython",
    "version": 3
   },
   "file_extension": ".py",
   "mimetype": "text/x-python",
   "name": "python",
   "nbconvert_exporter": "python",
   "pygments_lexer": "ipython3",
   "version": "3.5.4"
  },
  "toc": {
   "base_numbering": 1,
   "nav_menu": {},
   "number_sections": true,
   "sideBar": true,
   "skip_h1_title": false,
   "title_cell": "Table of Contents",
   "title_sidebar": "Contents",
   "toc_cell": false,
   "toc_position": {},
   "toc_section_display": true,
   "toc_window_display": false
  }
 },
 "nbformat": 4,
 "nbformat_minor": 2
}
